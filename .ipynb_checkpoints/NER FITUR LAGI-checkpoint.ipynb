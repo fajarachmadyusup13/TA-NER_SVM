{
 "cells": [
  {
   "cell_type": "code",
   "execution_count": 11,
   "metadata": {},
   "outputs": [],
   "source": [
    "import string\n",
    "import pandas as pd\n",
    "import numpy as np\n",
    "from pprint import pprint\n",
    "from sklearn.pipeline import Pipeline\n",
    "from seqeval.metrics import classification_report as seq_met\n",
    "from sklearn.metrics import classification_report as skl_met\n",
    "from sklearn.model_selection import train_test_split\n",
    "from sklearn.feature_extraction import DictVectorizer\n",
    "from sklearn.naive_bayes import MultinomialNB"
   ]
  },
  {
   "cell_type": "markdown",
   "metadata": {},
   "source": [
    "## Read Test and Train Data"
   ]
  },
  {
   "cell_type": "code",
   "execution_count": 12,
   "metadata": {},
   "outputs": [],
   "source": [
    "df_train = pd.read_excel(\"Datasets/200_Hadits.xlsx\", sheet_name=\"train\")\n",
    "df_test = pd.read_excel(\"Datasets/200_Hadits.xlsx\", sheet_name=\"test\")\n",
    "\n",
    "# df_train = pd.read_csv('100_dataset - 100.csv', encoding = \"ISO-8859-1\")\n",
    "# df_test = pd.read_csv('100_test_2.csv', encoding = \"ISO-8859-1\")"
   ]
  },
  {
   "cell_type": "code",
   "execution_count": 13,
   "metadata": {},
   "outputs": [
    {
     "data": {
      "text/html": [
       "<div>\n",
       "<style scoped>\n",
       "    .dataframe tbody tr th:only-of-type {\n",
       "        vertical-align: middle;\n",
       "    }\n",
       "\n",
       "    .dataframe tbody tr th {\n",
       "        vertical-align: top;\n",
       "    }\n",
       "\n",
       "    .dataframe thead th {\n",
       "        text-align: right;\n",
       "    }\n",
       "</style>\n",
       "<table border=\"1\" class=\"dataframe\">\n",
       "  <thead>\n",
       "    <tr style=\"text-align: right;\">\n",
       "      <th></th>\n",
       "      <th>entity</th>\n",
       "      <th>counts</th>\n",
       "    </tr>\n",
       "  </thead>\n",
       "  <tbody>\n",
       "    <tr>\n",
       "      <th>0</th>\n",
       "      <td>B-LOC</td>\n",
       "      <td>6</td>\n",
       "    </tr>\n",
       "    <tr>\n",
       "      <th>1</th>\n",
       "      <td>B-PER</td>\n",
       "      <td>674</td>\n",
       "    </tr>\n",
       "    <tr>\n",
       "      <th>2</th>\n",
       "      <td>I-LOC</td>\n",
       "      <td>2</td>\n",
       "    </tr>\n",
       "    <tr>\n",
       "      <th>3</th>\n",
       "      <td>I-PER</td>\n",
       "      <td>1391</td>\n",
       "    </tr>\n",
       "    <tr>\n",
       "      <th>4</th>\n",
       "      <td>O</td>\n",
       "      <td>7793</td>\n",
       "    </tr>\n",
       "  </tbody>\n",
       "</table>\n",
       "</div>"
      ],
      "text/plain": [
       "  entity  counts\n",
       "0  B-LOC       6\n",
       "1  B-PER     674\n",
       "2  I-LOC       2\n",
       "3  I-PER    1391\n",
       "4      O    7793"
      ]
     },
     "execution_count": 13,
     "metadata": {},
     "output_type": "execute_result"
    }
   ],
   "source": [
    "# Count the tokens for each entity\n",
    "df_test.groupby('entity').size().reset_index(name='counts')"
   ]
  },
  {
   "cell_type": "code",
   "execution_count": 14,
   "metadata": {},
   "outputs": [
    {
     "data": {
      "text/html": [
       "<div>\n",
       "<style scoped>\n",
       "    .dataframe tbody tr th:only-of-type {\n",
       "        vertical-align: middle;\n",
       "    }\n",
       "\n",
       "    .dataframe tbody tr th {\n",
       "        vertical-align: top;\n",
       "    }\n",
       "\n",
       "    .dataframe thead th {\n",
       "        text-align: right;\n",
       "    }\n",
       "</style>\n",
       "<table border=\"1\" class=\"dataframe\">\n",
       "  <thead>\n",
       "    <tr style=\"text-align: right;\">\n",
       "      <th></th>\n",
       "      <th>entity</th>\n",
       "      <th>counts</th>\n",
       "    </tr>\n",
       "  </thead>\n",
       "  <tbody>\n",
       "    <tr>\n",
       "      <th>0</th>\n",
       "      <td>B-LOC</td>\n",
       "      <td>24</td>\n",
       "    </tr>\n",
       "    <tr>\n",
       "      <th>1</th>\n",
       "      <td>B-PER</td>\n",
       "      <td>1564</td>\n",
       "    </tr>\n",
       "    <tr>\n",
       "      <th>2</th>\n",
       "      <td>I-LOC</td>\n",
       "      <td>22</td>\n",
       "    </tr>\n",
       "    <tr>\n",
       "      <th>3</th>\n",
       "      <td>I-PER</td>\n",
       "      <td>3067</td>\n",
       "    </tr>\n",
       "    <tr>\n",
       "      <th>4</th>\n",
       "      <td>O</td>\n",
       "      <td>16466</td>\n",
       "    </tr>\n",
       "  </tbody>\n",
       "</table>\n",
       "</div>"
      ],
      "text/plain": [
       "  entity  counts\n",
       "0  B-LOC      24\n",
       "1  B-PER    1564\n",
       "2  I-LOC      22\n",
       "3  I-PER    3067\n",
       "4      O   16466"
      ]
     },
     "execution_count": 14,
     "metadata": {},
     "output_type": "execute_result"
    }
   ],
   "source": [
    "# Count the tokens for each entity\n",
    "df_train.groupby('entity').size().reset_index(name='counts')"
   ]
  },
  {
   "cell_type": "markdown",
   "metadata": {},
   "source": [
    "## Grouping Tokens by Hadith"
   ]
  },
  {
   "cell_type": "code",
   "execution_count": null,
   "metadata": {},
   "outputs": [],
   "source": [
    "def sencentes_getter(data):\n",
    "    agg_func = lambda s: [(s.name, t, p, e) for t, p, e in zip(s['token'].values.tolist(), \n",
    "                                                           s['pos'].values.tolist(), \n",
    "                                                           s['entity'].values.tolist())]\n",
    "    grouped = data.groupby('title').apply(agg_func)\n",
    "    sentences = [s for s in grouped]\n",
    "    \n",
    "    return sentences"
   ]
  },
  {
   "cell_type": "code",
   "execution_count": null,
   "metadata": {
    "scrolled": false
   },
   "outputs": [],
   "source": [
    "train_sents = sencentes_getter(df_train)\n",
    "test_sents = sencentes_getter(df_test)"
   ]
  },
  {
   "cell_type": "markdown",
   "metadata": {},
   "source": [
    "## Feature Extraction"
   ]
  },
  {
   "cell_type": "code",
   "execution_count": null,
   "metadata": {},
   "outputs": [],
   "source": [
    "def word2features(sent, i):\n",
    "        word = sent[i][1]\n",
    "        postag = sent[i][2]\n",
    "\n",
    "        features = {\n",
    "            'bias': 1.0, \n",
    "            'word': word,\n",
    "            'word.istitle()': word.istitle(),\n",
    "            'postag': postag,\n",
    "            \n",
    "            'word_pls_1': '',\n",
    "            'word_pls_1.istitle()': False,\n",
    "            'postag_pls_1': '',\n",
    "            \n",
    "            'word_min_1': '',\n",
    "            'word_min_1.istitle()': False,\n",
    "            'postag_min_1': '',\n",
    "            \n",
    "            'BOS': True if i == 0 else False,\n",
    "            'EOS': True if i == len(sent)-1 else False,\n",
    "        }\n",
    "        \n",
    "        \n",
    "        if i < len(sent)-1:\n",
    "            word_pls_1 = sent[i+1][1]\n",
    "            postag_pls_1 = sent[i+1][2]\n",
    "            features.update({\n",
    "                'word_pls_1': word_pls_1,\n",
    "                'word_pls_1.istitle()': word_pls_1.istitle(),\n",
    "                'postag_pls_1': postag_pls_1\n",
    "            })\n",
    "        if i > 0:\n",
    "            word_min_1 = sent[i-1][1]\n",
    "            postag_min_1 = sent[i-1][2]\n",
    "            features.update({\n",
    "                'word_min_1': word_min_1,\n",
    "                'word_min_1.istitle()': word_min_1.istitle(),\n",
    "                'postag_min_1': postag_min_1\n",
    "            })\n",
    "        \n",
    "        return features\n",
    "\n",
    "def sent2features(sent):  \n",
    "    return [word2features(sent, i) for i in range(len(sent))]\n",
    "\n",
    "def sent2labels(sent):\n",
    "#     print(sent)\n",
    "    return [label for title, token, postag, label in sent]\n",
    "\n",
    "def sent2labelspred(sent):\n",
    "    return [pred for title, token, postag, label, pred in sent]"
   ]
  },
  {
   "cell_type": "code",
   "execution_count": null,
   "metadata": {},
   "outputs": [],
   "source": [
    "# Training\n",
    "X_train = [x for s in train_sents for x in sent2features(s)]\n",
    "y_train = [y for s in train_sents for y in sent2labels(s)]\n",
    "\n",
    "# Test\n",
    "X_test = [x for s in test_sents for x in sent2features(s)]\n",
    "y_test = [y for s in test_sents for y in sent2labels(s)]"
   ]
  },
  {
   "cell_type": "code",
   "execution_count": null,
   "metadata": {},
   "outputs": [
    {
     "data": {
      "text/plain": [
       "'O'"
      ]
     },
     "execution_count": 19,
     "metadata": {},
     "output_type": "execute_result"
    }
   ],
   "source": [
    "classes = ['B-LOC', 'B-PER', 'I-LOC', 'I-PER', 'O']\n",
    "new_classes = classes.copy()\n",
    "new_classes.pop()"
   ]
  },
  {
   "cell_type": "markdown",
   "metadata": {},
   "source": [
    "## Training Model"
   ]
  },
  {
   "cell_type": "code",
   "execution_count": null,
   "metadata": {},
   "outputs": [
    {
     "data": {
      "text/plain": [
       "Pipeline(memory=None,\n",
       "     steps=[('vectorizer', DictVectorizer(dtype=<class 'numpy.float64'>, separator='=', sort=True,\n",
       "        sparse=False)), ('classifier', MultinomialNB(alpha=1.0, class_prior=None, fit_prior=True))])"
      ]
     },
     "execution_count": 20,
     "metadata": {},
     "output_type": "execute_result"
    }
   ],
   "source": [
    "clf = Pipeline([\n",
    "    ('vectorizer', DictVectorizer(sparse=False)),\n",
    "    ('classifier', MultinomialNB(alpha=1.0, class_prior=None, fit_prior=True))\n",
    "])\n",
    "\n",
    "clf.fit(X_train, y_train)"
   ]
  },
  {
   "cell_type": "code",
   "execution_count": null,
   "metadata": {},
   "outputs": [
    {
     "name": "stdout",
     "output_type": "stream",
     "text": [
      "Accuracy of Training:\n",
      "0.9756893534503145\n",
      "Accuracy of Validation:\n",
      "0.9754713156294345\n",
      "              precision    recall  f1-score   support\n",
      "\n",
      "       B-LOC       0.00      0.00      0.00         6\n",
      "       B-PER       0.91      0.92      0.91       674\n",
      "       I-LOC       0.00      0.00      0.00         2\n",
      "       I-PER       0.92      0.98      0.95      1391\n",
      "\n",
      "   micro avg       0.92      0.95      0.94      2073\n",
      "   macro avg       0.46      0.47      0.47      2073\n",
      "weighted avg       0.92      0.95      0.93      2073\n",
      "\n"
     ]
    },
    {
     "name": "stderr",
     "output_type": "stream",
     "text": [
      "/home/ghost/anaconda3/envs/Playgrounds/lib/python3.7/site-packages/sklearn/metrics/classification.py:1143: UndefinedMetricWarning: Precision and F-score are ill-defined and being set to 0.0 in labels with no predicted samples.\n",
      "  'precision', 'predicted', average, warn_for)\n"
     ]
    }
   ],
   "source": [
    "print(\"Accuracy of Training:\")\n",
    "print(clf.score(X_train, y_train))\n",
    "print(\"Accuracy of Validation:\")\n",
    "print(clf.score(X_test, y_test))\n",
    "\n",
    "print(skl_met(y_test, clf.predict(X_test), labels=new_classes))"
   ]
  },
  {
   "cell_type": "code",
   "execution_count": null,
   "metadata": {
    "scrolled": false
   },
   "outputs": [],
   "source": [
    "df_result = df_test.copy()\n",
    "df_result['predicted'] = clf.predict(X_test)\n",
    "df_result_grouped = df_result.groupby('title')\n",
    "\n",
    "y_pred = df_result_grouped['predicted']\n",
    "y_true = df_result_grouped['entity']\n",
    "\n",
    "y_grouped_pred = [p[1].tolist() for p in y_pred]\n",
    "y_grouped_true = [p[1].tolist() for p in y_true]\n",
    "\n",
    "\n",
    "\n",
    "print(seq_met(y_grouped_true, y_grouped_pred))\n",
    "# ne_per = 2251\n",
    "# ne_loc = 41\n",
    "print(\"Training Data\")\n",
    "print(\"Jumlah Hadits: \", 140)\n",
    "print(\"Jumlah Entitas PER: \", 1572)\n",
    "print(\"Jumlah Entitas LOC: \", 33)\n",
    "print(\"\\n\")\n",
    "print(\"Test Data\")\n",
    "print(\"Jumlah Hadits: \", 60)\n",
    "print(\"Jumlah Entitas PER: \", 679)\n",
    "print(\"Jumlah Entitas LOC: \", 8)\n"
   ]
  },
  {
   "cell_type": "code",
   "execution_count": null,
   "metadata": {},
   "outputs": [],
   "source": [
    "def get_predicted_sent(data):\n",
    "    func = lambda s: [(s.name, t, p) for t, p in zip(s['token'].values.tolist(),\n",
    "                                                     s['predicted'].values.tolist())]\n",
    "    groupedx = data.groupby('title').apply(func)\n",
    "    sents = [g for g in groupedx]\n",
    "    \n",
    "    return sents"
   ]
  },
  {
   "cell_type": "code",
   "execution_count": null,
   "metadata": {
    "scrolled": false
   },
   "outputs": [],
   "source": [
    "pred_sents = get_predicted_sent(df_result)\n",
    "\n",
    "def names_by_hadith(data):\n",
    "    titl = {}\n",
    "    sent_nes = []\n",
    "\n",
    "    for sent in data:\n",
    "        for i in range(len(sent)):\n",
    "            if sent[i][-1] == 'B-PER':\n",
    "                ne = []\n",
    "                while sent[i][-1] != 'O':\n",
    "                    ne.append(sent[i][1])\n",
    "                    if i<len(sent)-1:\n",
    "                        i+=1\n",
    "                    else:\n",
    "                        break\n",
    "                str_name = \"\".join([i+\" \" if not i.startswith(\"'\") and i not in string.punctuation else i for i in ne]).strip()\n",
    "                if str_name not in sent_nes:\n",
    "                    sent_nes.append(str_name)\n",
    "        titl[sent[0][0]] = sent_nes.copy()\n",
    "        sent_nes.clear()\n",
    "    return titl\n",
    "\n",
    "# pprint(names_by_hadith(pred_sents))"
   ]
  },
  {
   "cell_type": "code",
   "execution_count": null,
   "metadata": {},
   "outputs": [],
   "source": [
    "def hadith_by_name(data):\n",
    "    nms = {}\n",
    "    for sent in data:\n",
    "        for i in range(len(sent)):\n",
    "            if sent[i][-1] == 'B-PER':\n",
    "                ne = []\n",
    "                while sent[i][-1] != 'O':\n",
    "                    ne.append(sent[i][1])\n",
    "                    if i<len(sent)-1:\n",
    "                        i+=1\n",
    "                    else:\n",
    "                        break\n",
    "                str_name = \"\".join([i+\" \" \n",
    "                                    if not i.startswith(\"'\") and i not in string.punctuation \n",
    "                                    else i for i in ne]).strip().title()\n",
    "                if str_name not in nms:\n",
    "                    nms[str_name] = [sent[0][0]]\n",
    "                else:\n",
    "                    if sent[0][0] not in nms[str_name]:\n",
    "                        nms[str_name].append(sent[0][0])\n",
    "    return nms\n",
    "\n",
    "pprint(hadith_by_name(pred_sents))"
   ]
  },
  {
   "cell_type": "code",
   "execution_count": null,
   "metadata": {},
   "outputs": [],
   "source": []
  },
  {
   "cell_type": "code",
   "execution_count": null,
   "metadata": {},
   "outputs": [],
   "source": [
    "\"asdasd asd\".title()"
   ]
  },
  {
   "cell_type": "code",
   "execution_count": null,
   "metadata": {},
   "outputs": [],
   "source": [
    "# print(df_test['title'].unique())"
   ]
  },
  {
   "cell_type": "code",
   "execution_count": null,
   "metadata": {},
   "outputs": [],
   "source": [
    "# df_train_cp = df_train.copy()\n",
    "# df_train_cp['predicted'] = clf.predict(X_train)\n",
    "\n",
    "# y_pred_tr = df_train_cp.groupby('title')['predicted']\n",
    "# y_true_tr = df_train_cp.groupby('title')['entity']\n",
    "\n",
    "# y_grouped_pred_tr = [p[1].tolist() for p in y_pred_tr]\n",
    "# y_grouped_true_tr = [p[1].tolist() for p in y_true_tr]\n",
    "\n",
    "# print(seq_met(y_grouped_true_tr, y_grouped_pred_tr))"
   ]
  },
  {
   "cell_type": "code",
   "execution_count": null,
   "metadata": {},
   "outputs": [],
   "source": []
  }
 ],
 "metadata": {
  "kernelspec": {
   "display_name": "Python 3",
   "language": "python",
   "name": "python3"
  },
  "language_info": {
   "codemirror_mode": {
    "name": "ipython",
    "version": 3
   },
   "file_extension": ".py",
   "mimetype": "text/x-python",
   "name": "python",
   "nbconvert_exporter": "python",
   "pygments_lexer": "ipython3",
   "version": "3.7.2"
  }
 },
 "nbformat": 4,
 "nbformat_minor": 2
}
