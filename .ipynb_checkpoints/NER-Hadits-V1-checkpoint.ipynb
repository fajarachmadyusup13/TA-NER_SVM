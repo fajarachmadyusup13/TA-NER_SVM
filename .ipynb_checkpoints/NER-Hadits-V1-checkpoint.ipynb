{
 "cells": [
  {
   "cell_type": "code",
   "execution_count": 1,
   "metadata": {},
   "outputs": [],
   "source": [
    "import pandas as pd\n",
    "import numpy as np\n",
    "from sklearn.feature_extraction import DictVectorizer\n",
    "from sklearn.feature_extraction.text import HashingVectorizer\n",
    "from sklearn.model_selection import train_test_split\n",
    "from sklearn.naive_bayes import MultinomialNB\n",
    "from sklearn.linear_model import SGDClassifier\n",
    "from sklearn.svm import SVC\n",
    "from sklearn.metrics import classification_report\n",
    "from sklearn.pipeline import Pipeline\n",
    "from sklearn.feature_extraction import DictVectorizer"
   ]
  },
  {
   "cell_type": "markdown",
   "metadata": {},
   "source": [
    "# Loading Dataset"
   ]
  },
  {
   "cell_type": "code",
   "execution_count": 2,
   "metadata": {},
   "outputs": [
    {
     "data": {
      "text/html": [
       "<div>\n",
       "<style scoped>\n",
       "    .dataframe tbody tr th:only-of-type {\n",
       "        vertical-align: middle;\n",
       "    }\n",
       "\n",
       "    .dataframe tbody tr th {\n",
       "        vertical-align: top;\n",
       "    }\n",
       "\n",
       "    .dataframe thead th {\n",
       "        text-align: right;\n",
       "    }\n",
       "</style>\n",
       "<table border=\"1\" class=\"dataframe\">\n",
       "  <thead>\n",
       "    <tr style=\"text-align: right;\">\n",
       "      <th></th>\n",
       "      <th>title</th>\n",
       "      <th>token</th>\n",
       "      <th>pos</th>\n",
       "      <th>entity</th>\n",
       "    </tr>\n",
       "  </thead>\n",
       "  <tbody>\n",
       "    <tr>\n",
       "      <th>0</th>\n",
       "      <td>Hadits Muslim Nomor 1</td>\n",
       "      <td>Dan</td>\n",
       "      <td>CONJ</td>\n",
       "      <td>O</td>\n",
       "    </tr>\n",
       "    <tr>\n",
       "      <th>1</th>\n",
       "      <td>Hadits Muslim Nomor 1</td>\n",
       "      <td>ia</td>\n",
       "      <td>PRON</td>\n",
       "      <td>O</td>\n",
       "    </tr>\n",
       "    <tr>\n",
       "      <th>2</th>\n",
       "      <td>Hadits Muslim Nomor 1</td>\n",
       "      <td>merupakan</td>\n",
       "      <td>VERB</td>\n",
       "      <td>O</td>\n",
       "    </tr>\n",
       "    <tr>\n",
       "      <th>3</th>\n",
       "      <td>Hadits Muslim Nomor 1</td>\n",
       "      <td>atsar</td>\n",
       "      <td>NOUN</td>\n",
       "      <td>O</td>\n",
       "    </tr>\n",
       "    <tr>\n",
       "      <th>4</th>\n",
       "      <td>Hadits Muslim Nomor 1</td>\n",
       "      <td>yang</td>\n",
       "      <td>PRON</td>\n",
       "      <td>O</td>\n",
       "    </tr>\n",
       "  </tbody>\n",
       "</table>\n",
       "</div>"
      ],
      "text/plain": [
       "                   title      token   pos entity\n",
       "0  Hadits Muslim Nomor 1        Dan  CONJ      O\n",
       "1  Hadits Muslim Nomor 1         ia  PRON      O\n",
       "2  Hadits Muslim Nomor 1  merupakan  VERB      O\n",
       "3  Hadits Muslim Nomor 1      atsar  NOUN      O\n",
       "4  Hadits Muslim Nomor 1       yang  PRON      O"
      ]
     },
     "execution_count": 2,
     "metadata": {},
     "output_type": "execute_result"
    }
   ],
   "source": [
    "df = pd.read_csv('Datasets/100_dataset - 100.csv',  encoding = \"ISO-8859-1\")\n",
    "df.head()"
   ]
  },
  {
   "cell_type": "code",
   "execution_count": 3,
   "metadata": {},
   "outputs": [
    {
     "data": {
      "text/plain": [
       "title     0\n",
       "token     0\n",
       "pos       0\n",
       "entity    0\n",
       "dtype: int64"
      ]
     },
     "execution_count": 3,
     "metadata": {},
     "output_type": "execute_result"
    }
   ],
   "source": [
    "df.isnull().sum()"
   ]
  },
  {
   "cell_type": "code",
   "execution_count": 4,
   "metadata": {},
   "outputs": [
    {
     "data": {
      "text/plain": [
       "(100, 2276, 3)"
      ]
     },
     "execution_count": 4,
     "metadata": {},
     "output_type": "execute_result"
    }
   ],
   "source": [
    "df.title.nunique(), df.token.nunique(), df.entity.nunique()"
   ]
  },
  {
   "cell_type": "code",
   "execution_count": 5,
   "metadata": {},
   "outputs": [
    {
     "data": {
      "text/plain": [
       "entity\n",
       "I-LOC       10\n",
       "I-PER     2732\n",
       "O        11127\n",
       "dtype: int64"
      ]
     },
     "execution_count": 5,
     "metadata": {},
     "output_type": "execute_result"
    }
   ],
   "source": [
    "df.groupby('entity').size()"
   ]
  },
  {
   "cell_type": "markdown",
   "metadata": {},
   "source": [
    "# Preprocess"
   ]
  },
  {
   "cell_type": "code",
   "execution_count": 6,
   "metadata": {},
   "outputs": [
    {
     "data": {
      "text/plain": [
       "((9292, 2388), (9292,))"
      ]
     },
     "execution_count": 6,
     "metadata": {},
     "output_type": "execute_result"
    }
   ],
   "source": [
    "X = df.drop('entity', axis=1)\n",
    "v = DictVectorizer(sparse=False)\n",
    "X = v.fit_transform(X.to_dict('records'))\n",
    "y = df.entity.values\n",
    "\n",
    "classes = np.unique(y)\n",
    "classes = classes.tolist()\n",
    "\n",
    "X_train, X_test, y_train, y_test = train_test_split(X, y, test_size = 0.33, random_state=0)\n",
    "\n",
    "X_train.shape, y_train.shape"
   ]
  },
  {
   "cell_type": "code",
   "execution_count": 15,
   "metadata": {},
   "outputs": [
    {
     "data": {
      "text/plain": [
       "['I-LOC', 'I-PER']"
      ]
     },
     "execution_count": 15,
     "metadata": {},
     "output_type": "execute_result"
    }
   ],
   "source": [
    "new_classes = classes.copy()\n",
    "new_classes.pop()\n",
    "new_classes"
   ]
  },
  {
   "cell_type": "markdown",
   "metadata": {},
   "source": [
    "# Naive Bayes Model"
   ]
  },
  {
   "cell_type": "code",
   "execution_count": 96,
   "metadata": {},
   "outputs": [
    {
     "data": {
      "text/plain": [
       "MultinomialNB(alpha=0.01, class_prior=None, fit_prior=True)"
      ]
     },
     "execution_count": 96,
     "metadata": {},
     "output_type": "execute_result"
    }
   ],
   "source": [
    "nb = MultinomialNB(alpha=0.01)\n",
    "nb.partial_fit(X_train, y_train, classes)"
   ]
  },
  {
   "cell_type": "code",
   "execution_count": 98,
   "metadata": {
    "scrolled": true
   },
   "outputs": [
    {
     "name": "stdout",
     "output_type": "stream",
     "text": [
      "              precision    recall  f1-score   support\n",
      "\n",
      "       I-LOC       0.00      0.00      0.00         2\n",
      "       I-PER       0.89      0.98      0.93       887\n",
      "\n",
      "   micro avg       0.88      0.97      0.93       889\n",
      "   macro avg       0.44      0.49      0.47       889\n",
      "weighted avg       0.89      0.97      0.93       889\n",
      "\n"
     ]
    }
   ],
   "source": [
    "print(classification_report(y_pred=nb.predict(X_test), y_true=y_test, labels = new_classes))"
   ]
  },
  {
   "cell_type": "code",
   "execution_count": 140,
   "metadata": {},
   "outputs": [
    {
     "data": {
      "text/plain": [
       "array(['I-PER', 'I-PER', 'O', 'I-PER', 'I-PER', 'O'], dtype='<U5')"
      ]
     },
     "execution_count": 140,
     "metadata": {},
     "output_type": "execute_result"
    }
   ],
   "source": [
    "nb.predict([X[37],X[38],X[39],X[40],X[41],X[42]])"
   ]
  },
  {
   "cell_type": "markdown",
   "metadata": {},
   "source": [
    "# SGD Model"
   ]
  },
  {
   "cell_type": "code",
   "execution_count": 99,
   "metadata": {
    "scrolled": true
   },
   "outputs": [
    {
     "data": {
      "text/plain": [
       "SGDClassifier(alpha=0.0001, average=False, class_weight=None,\n",
       "       early_stopping=False, epsilon=0.1, eta0=0.0, fit_intercept=True,\n",
       "       l1_ratio=0.15, learning_rate='optimal', loss='hinge', max_iter=None,\n",
       "       n_iter=None, n_iter_no_change=5, n_jobs=None, penalty='l2',\n",
       "       power_t=0.5, random_state=None, shuffle=True, tol=None,\n",
       "       validation_fraction=0.1, verbose=0, warm_start=False)"
      ]
     },
     "execution_count": 99,
     "metadata": {},
     "output_type": "execute_result"
    }
   ],
   "source": [
    "sgd = SGDClassifier()\n",
    "sgd.partial_fit(X_train, y_train, classes)"
   ]
  },
  {
   "cell_type": "code",
   "execution_count": 100,
   "metadata": {},
   "outputs": [
    {
     "name": "stdout",
     "output_type": "stream",
     "text": [
      "              precision    recall  f1-score   support\n",
      "\n",
      "       I-LOC       0.00      0.00      0.00         2\n",
      "       I-PER       0.93      0.88      0.90       887\n",
      "\n",
      "   micro avg       0.93      0.87      0.90       889\n",
      "   macro avg       0.46      0.44      0.45       889\n",
      "weighted avg       0.92      0.87      0.90       889\n",
      "\n"
     ]
    },
    {
     "name": "stderr",
     "output_type": "stream",
     "text": [
      "/home/ghost/anaconda3/envs/Playgrounds/lib/python3.7/site-packages/sklearn/metrics/classification.py:1143: UndefinedMetricWarning: Precision and F-score are ill-defined and being set to 0.0 in labels with no predicted samples.\n",
      "  'precision', 'predicted', average, warn_for)\n"
     ]
    }
   ],
   "source": [
    "print(classification_report(y_pred=sgd.predict(X_test), y_true=y_test, labels=new_classes))"
   ]
  },
  {
   "cell_type": "code",
   "execution_count": null,
   "metadata": {},
   "outputs": [],
   "source": []
  },
  {
   "cell_type": "code",
   "execution_count": null,
   "metadata": {},
   "outputs": [],
   "source": []
  },
  {
   "cell_type": "code",
   "execution_count": 101,
   "metadata": {},
   "outputs": [],
   "source": [
    "import sklearn_crfsuite\n",
    "from sklearn_crfsuite import scorers\n",
    "from sklearn_crfsuite import metrics\n",
    "from collections import Counter"
   ]
  },
  {
   "cell_type": "code",
   "execution_count": 9,
   "metadata": {},
   "outputs": [],
   "source": [
    "class SentenceGetter(object):\n",
    "    def __init__(self, data):\n",
    "        self.n_sent= 1\n",
    "        self.data = data\n",
    "        self.empty = False\n",
    "        agg_func = lambda s: [(w, p, t) for w, p, t in zip(s['token'].values.tolist(), \n",
    "                                                           s['pos'].values.tolist(), \n",
    "                                                           s['entity'].values.tolist())]\n",
    "        self.grouped = self.data.groupby('title').apply(agg_func)\n",
    "        self.sentences = [s for s in self.grouped]\n",
    "        \n",
    "    def get_next(self):\n",
    "        try: \n",
    "            s = self.grouped['Sentence: {}'.format(self.n_sent)]\n",
    "            self.n_sent += 1\n",
    "            return s \n",
    "        except:\n",
    "            return None\n",
    "        \n",
    "\n",
    "getter = SentenceGetter(df)\n",
    "sentences = getter.sentences"
   ]
  },
  {
   "cell_type": "code",
   "execution_count": 38,
   "metadata": {},
   "outputs": [],
   "source": [
    "def word2features(sent, i):\n",
    "    word = sent[i][0]\n",
    "    postag = sent[i][1]\n",
    "    \n",
    "    features = {\n",
    "        'bias': 1.0, \n",
    "        'word.lower()': word.lower(), \n",
    "        'word[-3:]': word[-3:],\n",
    "        'word[-2:]': word[-2:],\n",
    "        'word.isupper()': word.isupper(),\n",
    "        'word.istitle()': word.istitle(),\n",
    "        'word.isdigit()': word.isdigit(),\n",
    "        'postag': postag,\n",
    "        'postag[:2]': postag[:2],\n",
    "        '-1:word.lower()': False,\n",
    "        '-1:word.istitle()': False,\n",
    "        '-1:word.isupper()': False,\n",
    "        '-1:postag': '',\n",
    "        '-1:postag[:2]': '',\n",
    "        '+1:word.lower()': False,\n",
    "        '+1:word.istitle()': False,\n",
    "        '+1:word.isupper()': False,\n",
    "        '+1:postag': '',\n",
    "        '+1:postag[:2]': '',\n",
    "        'BOS': False,\n",
    "        'EOS': False\n",
    "    }\n",
    "    if i > 0:\n",
    "        word1 = sent[i-1][0]\n",
    "        postag1 = sent[i-1][1]\n",
    "        features.update({\n",
    "            '-1:word.lower()': word1.lower(),\n",
    "            '-1:word.istitle()': word1.istitle(),\n",
    "            '-1:word.isupper()': word1.isupper(),\n",
    "            '-1:postag': postag1,\n",
    "            '-1:postag[:2]': postag1[:2],\n",
    "        })\n",
    "    else:\n",
    "        features['BOS'] = True\n",
    "    if i < len(sent)-1:\n",
    "        word1 = sent[i+1][0]\n",
    "        postag1 = sent[i+1][1]\n",
    "        features.update({\n",
    "            '+1:word.lower()': word1.lower(),\n",
    "            '+1:word.istitle()': word1.istitle(),\n",
    "            '+1:word.isupper()': word1.isupper(),\n",
    "            '+1:postag': postag1,\n",
    "            '+1:postag[:2]': postag1[:2],\n",
    "        })\n",
    "    else:\n",
    "        features['EOS'] = True\n",
    "    return features\n",
    "\n",
    "def sent2features(sent):\n",
    "    return [word2features(sent, i) for i in range(len(sent))]\n",
    "def sent2labels(sent):\n",
    "    return [label for token, postag, label in sent]\n",
    "def sent2tokens(sent):\n",
    "    return [token for token, postag, label in sent]"
   ]
  },
  {
   "cell_type": "code",
   "execution_count": 39,
   "metadata": {},
   "outputs": [],
   "source": [
    "X = [x for s in sentences for x in sent2features(s)]\n",
    "y = [x for s in sentences for x in sent2labels(s)]\n",
    "X_train, X_test, y_train, y_test = train_test_split(X, y, test_size=0.33, random_state=0)"
   ]
  },
  {
   "cell_type": "code",
   "execution_count": 40,
   "metadata": {},
   "outputs": [
    {
     "data": {
      "text/plain": [
       "{'bias': 1.0,\n",
       " 'word.lower()': 'hasan',\n",
       " 'word[-3:]': 'san',\n",
       " 'word[-2:]': 'an',\n",
       " 'word.isupper()': False,\n",
       " 'word.istitle()': False,\n",
       " 'word.isdigit()': False,\n",
       " 'postag': 'NOUN',\n",
       " 'postag[:2]': 'NO',\n",
       " '-1:word.lower()': False,\n",
       " '-1:word.istitle()': False,\n",
       " '-1:word.isupper()': False,\n",
       " '-1:postag': '',\n",
       " '-1:postag[:2]': '',\n",
       " '+1:word.lower()': False,\n",
       " '+1:word.istitle()': False,\n",
       " '+1:word.isupper()': False,\n",
       " '+1:postag': '',\n",
       " '+1:postag[:2]': '',\n",
       " 'BOS': False,\n",
       " 'EOS': False}"
      ]
     },
     "execution_count": 40,
     "metadata": {},
     "output_type": "execute_result"
    }
   ],
   "source": [
    "X[len(X)-2]"
   ]
  },
  {
   "cell_type": "code",
   "execution_count": null,
   "metadata": {},
   "outputs": [],
   "source": [
    "clf = Pipeline([\n",
    "    ('vectorizer', DictVectorizer(sparse=False)),\n",
    "    ('classifier', SVC(gamma='auto'))\n",
    "])\n",
    "\n",
    "clf.fit(X_train, y_train)"
   ]
  },
  {
   "cell_type": "code",
   "execution_count": null,
   "metadata": {},
   "outputs": [],
   "source": [
    "print(classification_report(y_test, clf.predict(X_test), labels=new_classes))"
   ]
  },
  {
   "cell_type": "code",
   "execution_count": 161,
   "metadata": {},
   "outputs": [
    {
     "data": {
      "text/plain": [
       "CRF(algorithm='lbfgs', all_possible_states=None,\n",
       "  all_possible_transitions=True, averaging=None, c=None, c1=0.1, c2=0.1,\n",
       "  calibration_candidates=None, calibration_eta=None,\n",
       "  calibration_max_trials=None, calibration_rate=None,\n",
       "  calibration_samples=None, delta=None, epsilon=None, error_sensitive=None,\n",
       "  gamma=None, keep_tempfiles=None, linesearch=None, max_iterations=100,\n",
       "  max_linesearch=None, min_freq=None, model_filename=None,\n",
       "  num_memories=None, pa_type=None, period=None, trainer_cls=None,\n",
       "  variance=None, verbose=False)"
      ]
     },
     "execution_count": 161,
     "metadata": {},
     "output_type": "execute_result"
    }
   ],
   "source": [
    "crf = sklearn_crfsuite.CRF(\n",
    "    algorithm='lbfgs',\n",
    "    c1=0.1,\n",
    "    c2=0.1,\n",
    "    max_iterations=100,\n",
    "    all_possible_transitions=True\n",
    ")\n",
    "crf.fit(X_train, y_train)"
   ]
  },
  {
   "cell_type": "code",
   "execution_count": 167,
   "metadata": {},
   "outputs": [
    {
     "name": "stdout",
     "output_type": "stream",
     "text": [
      "              precision    recall  f1-score   support\n",
      "\n",
      "       I-LOC       0.00      0.00      0.00         2\n",
      "       I-PER       0.97      0.94      0.96      1081\n",
      "\n",
      "   micro avg       0.97      0.94      0.95      1083\n",
      "   macro avg       0.48      0.47      0.48      1083\n",
      "weighted avg       0.97      0.94      0.95      1083\n",
      "\n"
     ]
    }
   ],
   "source": [
    "y_pred = crf.predict(X_test)\n",
    "print(metrics.flat_classification_report(y_test, y_pred, labels = new_classes))\n"
   ]
  },
  {
   "cell_type": "code",
   "execution_count": 164,
   "metadata": {
    "scrolled": true
   },
   "outputs": [
    {
     "name": "stdout",
     "output_type": "stream",
     "text": [
      "Top likely transitions:\n",
      "O      -> O       2.234270\n",
      "I-PER  -> I-PER   1.486085\n",
      "O      -> I-LOC   -0.041040\n",
      "I-PER  -> O       -0.513114\n",
      "O      -> I-PER   -0.575904\n",
      "I-LOC  -> O       -0.829741\n",
      "I-PER  -> I-LOC   -0.924225\n",
      "I-LOC  -> I-PER   -1.275146\n",
      "\n",
      "Top unlikely transitions:\n",
      "O      -> O       2.234270\n",
      "I-PER  -> I-PER   1.486085\n",
      "O      -> I-LOC   -0.041040\n",
      "I-PER  -> O       -0.513114\n",
      "O      -> I-PER   -0.575904\n",
      "I-LOC  -> O       -0.829741\n",
      "I-PER  -> I-LOC   -0.924225\n",
      "I-LOC  -> I-PER   -1.275146\n"
     ]
    }
   ],
   "source": [
    "def print_transitions(trans_features):\n",
    "    for (label_from, label_to), weight in trans_features:\n",
    "        print(\"%-6s -> %-7s %0.6f\" % (label_from, label_to, weight))\n",
    "print(\"Top likely transitions:\")\n",
    "print_transitions(Counter(crf.transition_features_).most_common(20))\n",
    "print(\"\\nTop unlikely transitions:\")\n",
    "print_transitions(Counter(crf.transition_features_).most_common()[-20:])"
   ]
  },
  {
   "cell_type": "code",
   "execution_count": 165,
   "metadata": {},
   "outputs": [
    {
     "name": "stdout",
     "output_type": "stream",
     "text": [
      "Top positive:\n",
      "5.054036 I-PER    word.lower():rasulullah\n",
      "3.672314 I-PER    word.lower():syu'bah\n",
      "3.566430 O        +1:word.lower():membaca\n",
      "3.108119 I-PER    -1:word.lower():bin\n",
      "2.981464 O        word.lower():bin\n",
      "2.836506 I-PER    +1:word.lower():bin\n",
      "2.696579 O        word.lower():allah\n",
      "2.581737 I-PER    -1:word.lower():didatangkan\n",
      "2.579533 O        word.lower():kaisan\n",
      "2.342275 O        -1:word.lower():wasallam\n",
      "2.307568 O        word.lower():islam\n",
      "2.278246 I-PER    +1:word.lower():nya\n",
      "2.192158 I-LOC    +1:word.lower():alenia\n",
      "2.160654 O        word[-3:]:bin\n",
      "2.134919 I-PER    -1:word.lower():raja\n",
      "2.058249 O        -1:word.lower():sebagai\n",
      "2.010904 O        -1:word.lower():karena\n",
      "1.978953 I-PER    +1:word.lower():mendapati\n",
      "1.940902 I-PER    +1:word.lower():dikatakan\n",
      "1.905210 I-PER    -1:word.lower():dari\n",
      "1.882100 I-PER    word.lower():seakan\n",
      "1.877382 I-PER    -1:word.lower():`\n",
      "1.861170 I-LOC    -1:word.lower():thaabah\n",
      "1.818161 I-PER    word.lower():shallallahu\n",
      "1.813096 I-PER    -1:word.lower():seakan\n",
      "1.802355 I-PER    -1:word.lower():untuk\n",
      "1.768136 O        word[-2:]:au\n",
      "1.767435 I-PER    word.lower():abdan\n",
      "1.757761 I-PER    -1:word.lower():kami\n",
      "1.746759 O        word.lower():dan\n",
      "\n",
      "Top negative:\n",
      "-1.232184 O        +1:word.lower():sifat\n",
      "-1.259824 O        -1:word.lower():alaihi\n",
      "-1.298245 O        -1:word.lower():ibnu\n",
      "-1.376188 O        +1:word.lower():`\n",
      "-1.388196 I-PER    EOS\n",
      "-1.389704 O        +1:word.lower():meriwayatkan\n",
      "-1.393455 I-PER    word.lower():dari\n",
      "-1.428985 O        -1:word.lower():mendengar\n",
      "-1.488020 O        -1:word.lower():nya\n",
      "-1.505573 O        -1:word.lower():kami\n",
      "-1.535477 O        -1:word.lower():untuk\n",
      "-1.541673 O        word[-2:]:ad\n",
      "-1.545545 O        -1:word.lower():ia\n",
      "-1.581502 O        word.lower():membacakannya\n",
      "-1.625215 O        -1:word.lower():mempunyai\n",
      "-1.632120 O        -1:word.lower():membacakannya\n",
      "-1.637153 O        -1:word.lower():salamah\n",
      "-1.652231 I-PER    word[-2:]:ia\n",
      "-1.764218 O        word.lower():shallallahu\n",
      "-1.810859 I-LOC    bias\n",
      "-1.849300 O        -1:word.lower():seakan\n",
      "-1.895178 O        -1:word.lower():`\n",
      "-1.906081 O        +1:word.lower():dikatakan\n",
      "-1.930445 O        word.lower():seakan\n",
      "-1.979282 O        +1:word.lower():mendapati\n",
      "-2.124739 O        -1:word.lower():raja\n",
      "-2.188650 O        +1:word.lower():nya\n",
      "-2.506087 O        +1:word.lower():bin\n",
      "-2.957015 O        -1:word.lower():bin\n",
      "-3.038183 I-PER    word.lower():bin\n"
     ]
    }
   ],
   "source": [
    "def print_state_features(state_features):\n",
    "    for (attr, label), weight in state_features:\n",
    "        print(\"%0.6f %-8s %s\" % (weight, label, attr))\n",
    "print(\"Top positive:\")\n",
    "print_state_features(Counter(crf.state_features_).most_common(30))\n",
    "print(\"\\nTop negative:\")\n",
    "print_state_features(Counter(crf.state_features_).most_common()[-30:])"
   ]
  },
  {
   "cell_type": "code",
   "execution_count": null,
   "metadata": {},
   "outputs": [],
   "source": []
  },
  {
   "cell_type": "code",
   "execution_count": 156,
   "metadata": {
    "scrolled": true
   },
   "outputs": [
    {
     "data": {
      "text/plain": [
       "title\n",
       "Hadits Abu Daud Nomor 1     [(Telah, ADV, O), (menceritakan, VERB, O), (ke...\n",
       "Hadits Abu Daud Nomor 10    [(Telah, ADV, O), (menceritakan, VERB, O), (ke...\n",
       "Hadits Abu Daud Nomor 11    [(Telah, ADV, O), (menceritakan, VERB, O), (ke...\n",
       "Hadits Abu Daud Nomor 2     [(Telah, ADV, O), (menceritakan, VERB, O), (ke...\n",
       "Hadits Abu Daud Nomor 3     [(Telah, ADV, O), (menceritakan, VERB, O), (ke...\n",
       "Hadits Abu Daud Nomor 4     [(Telah, ADV, O), (menceritakan, VERB, O), (ke...\n",
       "Hadits Abu Daud Nomor 5     [(Telah, ADV, O), (menceritakan, VERB, O), (ke...\n",
       "Hadits Abu Daud Nomor 6     [(Telah, ADV, O), (menceritakan, VERB, O), (ke...\n",
       "Hadits Abu Daud Nomor 7     [(Telah, ADV, O), (menceritakan, VERB, O), (ke...\n",
       "Hadits Abu Daud Nomor 8     [(Telah, ADV, O), (menceritakan, VERB, O), (ke...\n",
       "Hadits Abu Daud Nomor 9     [(Telah, ADV, O), (menceritakan, VERB, O), (ke...\n",
       "Hadits Ahmad Nomor 1        [(Telah, ADV, O), (menceritakan, VERB, O), (ke...\n",
       "Hadits Ahmad Nomor 10       [(Telah, ADV, O), (menceritakan, VERB, O), (ke...\n",
       "Hadits Ahmad Nomor 11       [(Telah, ADV, O), (menceritakan, VERB, O), (ke...\n",
       "Hadits Ahmad Nomor 12       [(Telah, ADV, O), (menceritakan, VERB, O), (ke...\n",
       "Hadits Ahmad Nomor 14       [(Telah, ADV, O), (menceritakan, VERB, O), (ke...\n",
       "Hadits Ahmad Nomor 3        [(Telah, ADV, O), (menceritakan, VERB, O), (ke...\n",
       "Hadits Ahmad Nomor 4        [(Telah, ADV, O), (menceritakan, VERB, O), (ke...\n",
       "Hadits Ahmad Nomor 5        [(Telah, ADV, O), (menceritakan, VERB, O), (ke...\n",
       "Hadits Ahmad Nomor 7        [(Telah, ADV, O), (menceritakan, VERB, O), (ke...\n",
       "Hadits Ahmad Nomor 78       [(Telah, ADV, O), (menceritakan, VERB, O), (ke...\n",
       "Hadits Ahmad Nomor 8        [(Telah, ADV, O), (menceritakan, VERB, O), (ke...\n",
       "Hadits Bukhari Nomor 1      [(Telah, ADV, O), (menceritakan, VERB, O), (ke...\n",
       "Hadits Bukhari Nomor 10     [(Telah, ADV, O), (menceritakan, VERB, O), (ke...\n",
       "Hadits Bukhari Nomor 11     [(Telah, ADV, O), (menceritakan, VERB, O), (ke...\n",
       "Hadits Bukhari Nomor 2      [(Telah, ADV, O), (menceritakan, VERB, O), (ke...\n",
       "Hadits Bukhari Nomor 3      [(Telah, ADV, O), (menceritakan, VERB, O), (ke...\n",
       "Hadits Bukhari Nomor 4      [(Telah, ADV, O), (menceritakan, VERB, O), (ke...\n",
       "Hadits Bukhari Nomor 5      [(Telah, ADV, O), (menceritakan, VERB, O), (ke...\n",
       "Hadits Bukhari Nomor 6      [(Telah, ADV, O), (menceritakan, VERB, O), (ke...\n",
       "                                                  ...                        \n",
       "Hadits Muslim Nomor 4       [(Telah, ADV, O), (menceritakan, VERB, O), (ke...\n",
       "Hadits Muslim Nomor 5       [(Telah, ADV, O), (menceritakan, VERB, O), (ke...\n",
       "Hadits Muslim Nomor 6       [(Dan, CONJ, O), (telah, ADV, O), (menceritaka...\n",
       "Hadits Muslim Nomor 7       [(Dan, CONJ, O), (telah, ADV, O), (menceritaka...\n",
       "Hadits Muslim Nomor 8       [(Telah, ADV, O), (menceritakan, VERB, O), (ke...\n",
       "Hadits Muslim Nomor 9       [(Telah, ADV, O), (menceritakan, VERB, O), (ke...\n",
       "Hadits Nasai Nomor 1        [(Telah, ADV, O), (mengabarkan, VERB, O), (kep...\n",
       "Hadits Nasai Nomor 10       [(Telah, ADV, O), (mengabarkan, VERB, O), (kep...\n",
       "Hadits Nasai Nomor 11       [(Telah, ADV, O), (mengabarkan, VERB, O), (kep...\n",
       "Hadits Nasai Nomor 2        [(Telah, ADV, O), (mengabarkan, VERB, O), (kep...\n",
       "Hadits Nasai Nomor 3        [(Telah, ADV, O), (mengabarkan, VERB, O), (kep...\n",
       "Hadits Nasai Nomor 4        [(Telah, ADV, O), (mengabarkan, VERB, O), (kep...\n",
       "Hadits Nasai Nomor 5        [(Telah, ADV, O), (mengabarkan, VERB, O), (kep...\n",
       "Hadits Nasai Nomor 6        [(Telah, ADV, O), (mengabarkan, VERB, O), (kep...\n",
       "Hadits Nasai Nomor 7        [(Telah, ADV, O), (mengabarkan, VERB, O), (kep...\n",
       "Hadits Nasai Nomor 8        [(Telah, ADV, O), (mengabarkan, VERB, O), (kep...\n",
       "Hadits Nasai Nomor 9        [(Telah, ADV, O), (mengabarkan, VERB, O), (kep...\n",
       "Hadits Tirmidzi Nomor 1     [(telah, ADV, O), (menceritakan, VERB, O), (ke...\n",
       "Hadits Tirmidzi Nomor 10    [(Dan, CONJ, O), (hadits, NOUN, O), (ini, DET,...\n",
       "Hadits Tirmidzi Nomor 11    [(telah, ADV, O), (menceritakan, VERB, O), (ke...\n",
       "Hadits Tirmidzi Nomor 12    [(telah, ADV, O), (menceritakan, VERB, O), (ke...\n",
       "Hadits Tirmidzi Nomor 13    [(telah, ADV, O), (menceritakan, VERB, O), (ke...\n",
       "Hadits Tirmidzi Nomor 2     [(Telah, ADV, O), (menceritakan, VERB, O), (ke...\n",
       "Hadits Tirmidzi Nomor 3     [(Telah, ADV, O), (menceritakan, VERB, O), (ke...\n",
       "Hadits Tirmidzi Nomor 4     [(telah, ADV, O), (menceritakan, VERB, O), (ke...\n",
       "Hadits Tirmidzi Nomor 5     [(telah, ADV, O), (menceritakan, VERB, O), (ke...\n",
       "Hadits Tirmidzi Nomor 6     [(telah, ADV, O), (menceritakan, VERB, O), (ke...\n",
       "Hadits Tirmidzi Nomor 7     [(telah, ADV, O), (menceritakan, VERB, O), (ke...\n",
       "Hadits Tirmidzi Nomor 8     [(telah, ADV, O), (menceritakan, VERB, O), (ke...\n",
       "Hadits Tirmidzi Nomor 9     [(telah, ADV, O), (menceritakan, VERB, O), (ke...\n",
       "Length: 100, dtype: object"
      ]
     },
     "execution_count": 156,
     "metadata": {},
     "output_type": "execute_result"
    }
   ],
   "source": [
    "zz = df.groupby(\"title\").apply(lambda s: [(w, p, t) for w, p, t in zip(s['token'].values.tolist(), \n",
    "                                                           s['pos'].values.tolist(), \n",
    "                                                           s['entity'].values.tolist())])\n",
    "\n",
    "zz"
   ]
  }
 ],
 "metadata": {
  "kernelspec": {
   "display_name": "Python 3",
   "language": "python",
   "name": "python3"
  },
  "language_info": {
   "codemirror_mode": {
    "name": "ipython",
    "version": 3
   },
   "file_extension": ".py",
   "mimetype": "text/x-python",
   "name": "python",
   "nbconvert_exporter": "python",
   "pygments_lexer": "ipython3",
   "version": "3.7.2"
  }
 },
 "nbformat": 4,
 "nbformat_minor": 2
}
