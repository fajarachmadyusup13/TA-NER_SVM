{
 "cells": [
  {
   "cell_type": "code",
   "execution_count": 1,
   "metadata": {},
   "outputs": [],
   "source": [
    "import pandas as pd\n",
    "import numpy as np\n",
    "from pprint import pprint\n",
    "from sklearn.svm import LinearSVC, SVC\n",
    "from sklearn.pipeline import Pipeline\n",
    "from seqeval.metrics import classification_report as seq_met\n",
    "from sklearn.metrics import classification_report as skl_met\n",
    "from sklearn.model_selection import train_test_split\n",
    "from sklearn.feature_extraction import DictVectorizer"
   ]
  },
  {
   "cell_type": "markdown",
   "metadata": {},
   "source": [
    "## Feature Extraction"
   ]
  },
  {
   "cell_type": "code",
   "execution_count": 2,
   "metadata": {},
   "outputs": [],
   "source": [
    "class SentenceGetter(object):\n",
    "    def __init__(self, data):\n",
    "        self.n_sent= 1\n",
    "        self.data = data\n",
    "        self.empty = False\n",
    "#         agg_func_x = lambda s: [(s.name, t, p, e, pr) for t, p, e, pr in zip(s['token'].values.tolist(), \n",
    "#                                                            s['pos'].values.tolist(), \n",
    "#                                                            s['entity'].values.tolist(), \n",
    "#                                                            s['predicted_entity'].values.tolist())]\n",
    "        \n",
    "        agg_func = lambda s: [(s.name, t, p, e) for t, p, e in zip(s['token'].values.tolist(), \n",
    "                                                           s['pos'].values.tolist(), \n",
    "                                                           s['entity'].values.tolist())]\n",
    "        \n",
    "        self.grouped = self.data.groupby('title').apply(agg_func)\n",
    "#         self.grouped_x = self.data.groupby('title').apply(agg_func_x)\n",
    "        \n",
    "        self.sentences = [s for s in self.grouped]\n",
    "#         self.sentences_x = [s for s in self.grouped_x]"
   ]
  },
  {
   "cell_type": "code",
   "execution_count": 3,
   "metadata": {},
   "outputs": [],
   "source": [
    "def word2features(sent, i):\n",
    "        word = sent[i][1]\n",
    "        postag = sent[i][2]\n",
    "\n",
    "        features = {\n",
    "            'bias': 1.0, \n",
    "#             'word.lower()': word.lower(), \n",
    "            'word': word,\n",
    "            'word[-3:]': word[-3:],\n",
    "            'word[-2:]': word[-2:],\n",
    "            'word[-1:]': word[-1:],\n",
    "            'word[:3]': word[:3],\n",
    "            'word[:2]': word[:2],\n",
    "            'word[:1]': word[:1],\n",
    "            \n",
    "#             'word.isupper()': word.isupper(),\n",
    "            'word.islower()': word.islower(),\n",
    "            'word.istitle()': word.istitle(),\n",
    "#             'word.isdigit()': word.isdigit(),\n",
    "            'postag': postag,\n",
    "            \n",
    "#             'word_pls_1.lower()': '', \n",
    "            'word_pls_1': '',\n",
    "            'word_pls_1[-3:]': '',\n",
    "            'word_pls_1[-2:]': '',\n",
    "            'word_pls_1[-1:]': '',\n",
    "            'word_pls_1[:3]': '',\n",
    "            'word_pls_1[:2]': '',\n",
    "            'word_pls_1[:1]': '',\n",
    "#             'word_pls_1.isupper()': False,\n",
    "            'word_pls_1.islower()': False,\n",
    "            'word_pls_1.istitle()': False,\n",
    "#             'word_pls_1.isdigit()': False,\n",
    "            'postag_pls_1': '',\n",
    "            \n",
    "#             'word_min_1.lower()': '', \n",
    "            'word_min_1': '',\n",
    "            'word_min_1[-3:]': '',\n",
    "            'word_min_1[-2:]': '',\n",
    "            'word_min_1[-1:]': '',\n",
    "            'word_min_1[:3]': '',\n",
    "            'word_min_1[:2]': '',\n",
    "            'word_min_1[:1]': '',\n",
    "#             'word_min_1.isupper()': False,\n",
    "            'word_min_1.islower()': False,\n",
    "            'word_min_1.istitle()': False,\n",
    "#             'word_min_1.isdigit()': False,\n",
    "            'postag_min_1': '',\n",
    "            \n",
    "            'BOS': True if i == 0 else False,\n",
    "            'EOS': True if i == len(sent)-1 else False,\n",
    "        }\n",
    "        \n",
    "        \n",
    "        if i < len(sent)-1:\n",
    "            word_pls_1 = sent[i+1][1]\n",
    "            postag_pls_1 = sent[i+1][2]\n",
    "            features.update({\n",
    "#                 'word_pls_1.lower()': word_pls_1.lower(), \n",
    "                'word_pls_1': word_pls_1,\n",
    "                'word_pls_1[-3:]': word_pls_1[-3:],\n",
    "                'word_pls_1[-2:]': word_pls_1[-2:],\n",
    "                'word_pls_1[-1:]': word_pls_1[-1:],\n",
    "                'word_pls_1[:3]': word_pls_1[:3],\n",
    "                'word_pls_1[:2]': word_pls_1[:2],\n",
    "                'word_pls_1[:1]': word_pls_1[:1],\n",
    "#                 'word_pls_1.isupper()': word_pls_1.isupper(),\n",
    "                'word_pls_1.islower()': word_pls_1.islower(),\n",
    "                'word_pls_1.istitle()': word_pls_1.istitle(),\n",
    "#                 'word_pls_1.isdigit()': word_pls_1.isdigit(),\n",
    "                'postag_pls_1': postag_pls_1\n",
    "            })\n",
    "        if i > 0:\n",
    "            word_min_1 = sent[i-1][1]\n",
    "            postag_min_1 = sent[i-1][2]\n",
    "            features.update({\n",
    "#                 'word_min_1.lower()': word_min_1.lower(), \n",
    "                'word_min_1': word_min_1,\n",
    "                'word_min_1[-3:]': word_min_1[-3:],\n",
    "                'word_min_1[-2:]': word_min_1[-2:],\n",
    "                'word_min_1[-1:]': word_min_1[-1:],\n",
    "                'word_min_1[:3]': word_min_1[:3],\n",
    "                'word_min_1[:2]': word_min_1[:2],\n",
    "                'word_min_1[:1]': word_min_1[:1],\n",
    "#                 'word_min_1.isupper()': word_min_1.isupper(),\n",
    "                'word_min_1.islower()': word_min_1.islower(),\n",
    "                'word_min_1.istitle()': word_min_1.istitle(),\n",
    "#                 'word_min_1.isdigit()': word_min_1.isdigit(),\n",
    "                'postag_min_1': postag_min_1\n",
    "            })\n",
    "        \n",
    "        return features\n",
    "\n",
    "def sent2features(sent):  \n",
    "    return [word2features(sent, i) for i in range(len(sent))]\n",
    "\n",
    "def sent2labels(sent):\n",
    "    return [label for title, token, postag, label in sent]\n",
    "\n",
    "# def sent2labels(sent):\n",
    "#     return [label for title, token, postag, label, pred in sent]\n",
    "\n",
    "def sent2labelspred(sent):\n",
    "    return [pred for title, token, postag, label, pred in sent]"
   ]
  },
  {
   "cell_type": "code",
   "execution_count": 4,
   "metadata": {},
   "outputs": [
    {
     "data": {
      "text/html": [
       "<div>\n",
       "<style scoped>\n",
       "    .dataframe tbody tr th:only-of-type {\n",
       "        vertical-align: middle;\n",
       "    }\n",
       "\n",
       "    .dataframe tbody tr th {\n",
       "        vertical-align: top;\n",
       "    }\n",
       "\n",
       "    .dataframe thead th {\n",
       "        text-align: right;\n",
       "    }\n",
       "</style>\n",
       "<table border=\"1\" class=\"dataframe\">\n",
       "  <thead>\n",
       "    <tr style=\"text-align: right;\">\n",
       "      <th></th>\n",
       "      <th>title</th>\n",
       "      <th>token</th>\n",
       "      <th>pos</th>\n",
       "      <th>entity</th>\n",
       "    </tr>\n",
       "  </thead>\n",
       "  <tbody>\n",
       "    <tr>\n",
       "      <th>0</th>\n",
       "      <td>Hadits Abu Daud Nomor 1</td>\n",
       "      <td>Telah</td>\n",
       "      <td>ADV</td>\n",
       "      <td>O</td>\n",
       "    </tr>\n",
       "    <tr>\n",
       "      <th>1</th>\n",
       "      <td>Hadits Abu Daud Nomor 1</td>\n",
       "      <td>menceritakan</td>\n",
       "      <td>VERB</td>\n",
       "      <td>O</td>\n",
       "    </tr>\n",
       "    <tr>\n",
       "      <th>2</th>\n",
       "      <td>Hadits Abu Daud Nomor 1</td>\n",
       "      <td>kepada</td>\n",
       "      <td>ADP</td>\n",
       "      <td>O</td>\n",
       "    </tr>\n",
       "    <tr>\n",
       "      <th>3</th>\n",
       "      <td>Hadits Abu Daud Nomor 1</td>\n",
       "      <td>kami</td>\n",
       "      <td>PRON</td>\n",
       "      <td>O</td>\n",
       "    </tr>\n",
       "    <tr>\n",
       "      <th>4</th>\n",
       "      <td>Hadits Abu Daud Nomor 1</td>\n",
       "      <td>Abdullah</td>\n",
       "      <td>PROPN</td>\n",
       "      <td>B-PER</td>\n",
       "    </tr>\n",
       "  </tbody>\n",
       "</table>\n",
       "</div>"
      ],
      "text/plain": [
       "                     title         token    pos entity\n",
       "0  Hadits Abu Daud Nomor 1         Telah    ADV      O\n",
       "1  Hadits Abu Daud Nomor 1  menceritakan   VERB      O\n",
       "2  Hadits Abu Daud Nomor 1        kepada    ADP      O\n",
       "3  Hadits Abu Daud Nomor 1          kami   PRON      O\n",
       "4  Hadits Abu Daud Nomor 1      Abdullah  PROPN  B-PER"
      ]
     },
     "execution_count": 4,
     "metadata": {},
     "output_type": "execute_result"
    }
   ],
   "source": [
    "df = pd.read_excel(\"Datasets/100_merged.xlsx\")\n",
    "df.head()"
   ]
  },
  {
   "cell_type": "code",
   "execution_count": 5,
   "metadata": {},
   "outputs": [
    {
     "data": {
      "text/html": [
       "<div>\n",
       "<style scoped>\n",
       "    .dataframe tbody tr th:only-of-type {\n",
       "        vertical-align: middle;\n",
       "    }\n",
       "\n",
       "    .dataframe tbody tr th {\n",
       "        vertical-align: top;\n",
       "    }\n",
       "\n",
       "    .dataframe thead th {\n",
       "        text-align: right;\n",
       "    }\n",
       "</style>\n",
       "<table border=\"1\" class=\"dataframe\">\n",
       "  <thead>\n",
       "    <tr style=\"text-align: right;\">\n",
       "      <th></th>\n",
       "      <th>entity</th>\n",
       "      <th>counts</th>\n",
       "    </tr>\n",
       "  </thead>\n",
       "  <tbody>\n",
       "    <tr>\n",
       "      <th>0</th>\n",
       "      <td>B-LOC</td>\n",
       "      <td>30</td>\n",
       "    </tr>\n",
       "    <tr>\n",
       "      <th>1</th>\n",
       "      <td>B-PER</td>\n",
       "      <td>2239</td>\n",
       "    </tr>\n",
       "    <tr>\n",
       "      <th>2</th>\n",
       "      <td>I-LOC</td>\n",
       "      <td>24</td>\n",
       "    </tr>\n",
       "    <tr>\n",
       "      <th>3</th>\n",
       "      <td>I-PER</td>\n",
       "      <td>4460</td>\n",
       "    </tr>\n",
       "    <tr>\n",
       "      <th>4</th>\n",
       "      <td>O</td>\n",
       "      <td>24254</td>\n",
       "    </tr>\n",
       "  </tbody>\n",
       "</table>\n",
       "</div>"
      ],
      "text/plain": [
       "  entity  counts\n",
       "0  B-LOC      30\n",
       "1  B-PER    2239\n",
       "2  I-LOC      24\n",
       "3  I-PER    4460\n",
       "4      O   24254"
      ]
     },
     "execution_count": 5,
     "metadata": {},
     "output_type": "execute_result"
    }
   ],
   "source": [
    "df.groupby('entity').size().reset_index(name='counts')"
   ]
  },
  {
   "cell_type": "code",
   "execution_count": 6,
   "metadata": {},
   "outputs": [
    {
     "data": {
      "text/plain": [
       "[]"
      ]
     },
     "execution_count": 6,
     "metadata": {},
     "output_type": "execute_result"
    }
   ],
   "source": [
    "df.index[df['entity'] == 'B'].tolist()"
   ]
  },
  {
   "cell_type": "code",
   "execution_count": 7,
   "metadata": {},
   "outputs": [],
   "source": [
    "# get formated sentences from dataset\n",
    "getter = SentenceGetter(df)\n",
    "sentences = getter.sentences"
   ]
  },
  {
   "cell_type": "code",
   "execution_count": 8,
   "metadata": {},
   "outputs": [],
   "source": [
    "# Split train and test\n",
    "X = [x for s in sentences for x in sent2features(s)]\n",
    "y = [x for s in sentences for x in sent2labels(s)]\n",
    "X_train, X_test, y_train, y_test = train_test_split(X, y, test_size=0.33, random_state=0, shuffle=False)"
   ]
  },
  {
   "cell_type": "code",
   "execution_count": 9,
   "metadata": {},
   "outputs": [
    {
     "data": {
      "text/plain": [
       "['B-LOC', 'B-PER', 'I-LOC', 'I-PER', 'O']"
      ]
     },
     "execution_count": 9,
     "metadata": {},
     "output_type": "execute_result"
    }
   ],
   "source": [
    "classes = np.unique(y)\n",
    "classes = classes.tolist()\n",
    "\n",
    "# remove the most common tag 'O'(other)\n",
    "new_classes = classes.copy()\n",
    "new_classes.pop()\n",
    "new_classes"
   ]
  },
  {
   "cell_type": "code",
   "execution_count": 10,
   "metadata": {},
   "outputs": [
    {
     "data": {
      "text/plain": [
       "Pipeline(memory=None,\n",
       "     steps=[('vectorizer', DictVectorizer(dtype=<class 'numpy.float64'>, separator='=', sort=True,\n",
       "        sparse=False)), ('classifier', LinearSVC(C=1.0, class_weight=None, dual=True, fit_intercept=True,\n",
       "     intercept_scaling=1, loss='squared_hinge', max_iter=1000,\n",
       "     multi_class='ovr', penalty='l2', random_state=None, tol=0.0001,\n",
       "     verbose=0))])"
      ]
     },
     "execution_count": 10,
     "metadata": {},
     "output_type": "execute_result"
    }
   ],
   "source": [
    "clf = Pipeline([\n",
    "    ('vectorizer', DictVectorizer(sparse=False)),\n",
    "    ('classifier', LinearSVC(multi_class='ovr'))\n",
    "])\n",
    "\n",
    "clf.fit(X_train, y_train)"
   ]
  },
  {
   "cell_type": "code",
   "execution_count": 11,
   "metadata": {},
   "outputs": [
    {
     "name": "stdout",
     "output_type": "stream",
     "text": [
      "Accuracy of Training:\n",
      "0.9966787003610108\n",
      "Accuracy of Validation:\n",
      "0.9777191439460569\n",
      "              precision    recall  f1-score   support\n",
      "\n",
      "       B-LOC       0.00      0.00      0.00         3\n",
      "       B-PER       0.95      0.94      0.94       936\n",
      "       I-LOC       0.00      0.00      0.00         2\n",
      "       I-PER       0.97      0.94      0.95      1903\n",
      "           O       0.98      0.99      0.99      7389\n",
      "\n",
      "   micro avg       0.98      0.98      0.98     10233\n",
      "   macro avg       0.58      0.57      0.58     10233\n",
      "weighted avg       0.98      0.98      0.98     10233\n",
      "\n"
     ]
    }
   ],
   "source": [
    "print(\"Accuracy of Training:\")\n",
    "print(clf.score(X_train, y_train))\n",
    "print(\"Accuracy of Validation:\")\n",
    "print(clf.score(X_test, y_test))\n",
    "\n",
    "print(skl_met(y_test, clf.predict(X_test), labels=new_classes))"
   ]
  },
  {
   "cell_type": "code",
   "execution_count": 12,
   "metadata": {},
   "outputs": [
    {
     "data": {
      "text/html": [
       "<div>\n",
       "<style scoped>\n",
       "    .dataframe tbody tr th:only-of-type {\n",
       "        vertical-align: middle;\n",
       "    }\n",
       "\n",
       "    .dataframe tbody tr th {\n",
       "        vertical-align: top;\n",
       "    }\n",
       "\n",
       "    .dataframe thead th {\n",
       "        text-align: right;\n",
       "    }\n",
       "</style>\n",
       "<table border=\"1\" class=\"dataframe\">\n",
       "  <thead>\n",
       "    <tr style=\"text-align: right;\">\n",
       "      <th></th>\n",
       "      <th>title</th>\n",
       "      <th>token</th>\n",
       "      <th>pos</th>\n",
       "      <th>entity</th>\n",
       "    </tr>\n",
       "  </thead>\n",
       "  <tbody>\n",
       "    <tr>\n",
       "      <th>0</th>\n",
       "      <td>Hadits Muslim Nomor 15</td>\n",
       "      <td>-</td>\n",
       "      <td>PUNCT</td>\n",
       "      <td>I-PER</td>\n",
       "    </tr>\n",
       "    <tr>\n",
       "      <th>1</th>\n",
       "      <td>Hadits Muslim Nomor 15</td>\n",
       "      <td>Ahwash</td>\n",
       "      <td>NUM</td>\n",
       "      <td>I-PER</td>\n",
       "    </tr>\n",
       "    <tr>\n",
       "      <th>2</th>\n",
       "      <td>Hadits Muslim Nomor 15</td>\n",
       "      <td>dari</td>\n",
       "      <td>ADP</td>\n",
       "      <td>O</td>\n",
       "    </tr>\n",
       "    <tr>\n",
       "      <th>3</th>\n",
       "      <td>Hadits Muslim Nomor 15</td>\n",
       "      <td>Abu</td>\n",
       "      <td>PROPN</td>\n",
       "      <td>B-PER</td>\n",
       "    </tr>\n",
       "    <tr>\n",
       "      <th>4</th>\n",
       "      <td>Hadits Muslim Nomor 15</td>\n",
       "      <td>Ishaq</td>\n",
       "      <td>PROPN</td>\n",
       "      <td>I-PER</td>\n",
       "    </tr>\n",
       "  </tbody>\n",
       "</table>\n",
       "</div>"
      ],
      "text/plain": [
       "                    title   token    pos entity\n",
       "0  Hadits Muslim Nomor 15       -  PUNCT  I-PER\n",
       "1  Hadits Muslim Nomor 15  Ahwash    NUM  I-PER\n",
       "2  Hadits Muslim Nomor 15    dari    ADP      O\n",
       "3  Hadits Muslim Nomor 15     Abu  PROPN  B-PER\n",
       "4  Hadits Muslim Nomor 15   Ishaq  PROPN  I-PER"
      ]
     },
     "execution_count": 12,
     "metadata": {},
     "output_type": "execute_result"
    }
   ],
   "source": [
    "df_test = pd.read_excel(\"Datasets/100_merged_test.xlsx\")\n",
    "df_test.head()"
   ]
  },
  {
   "cell_type": "code",
   "execution_count": 13,
   "metadata": {},
   "outputs": [],
   "source": [
    "class SentenceGetterX(object):\n",
    "    def __init__(self, data):\n",
    "        self.n_sent= 1\n",
    "        self.data = data\n",
    "        self.empty = False\n",
    "        agg_func_x = lambda s: [(s.name, t, p, e, pr) for t, p, e, pr in zip(s['token'].values.tolist(), \n",
    "                                                           s['pos'].values.tolist(), \n",
    "                                                           s['entity'].values.tolist(), \n",
    "                                                           s['predicted_entity'].values.tolist())]\n",
    "        \n",
    "#         agg_func = lambda s: [(s.name, t, p, e) for t, p, e in zip(s['token'].values.tolist(), \n",
    "#                                                            s['pos'].values.tolist(), \n",
    "#                                                            s['entity'].values.tolist())]\n",
    "        \n",
    "#         self.grouped = self.data.groupby('title').apply(agg_func)\n",
    "        self.grouped_x = self.data.groupby('title').apply(agg_func_x)\n",
    "        \n",
    "#         self.sentences = [s for s in self.grouped]\n",
    "        self.sentences_x = [s for s in self.grouped_x]"
   ]
  },
  {
   "cell_type": "code",
   "execution_count": 14,
   "metadata": {},
   "outputs": [],
   "source": [
    "# get formated sentences from dataset\n",
    "getter_test = SentenceGetter(df_test)\n",
    "sentences_test = getter_test.sentences"
   ]
  },
  {
   "cell_type": "code",
   "execution_count": 15,
   "metadata": {},
   "outputs": [],
   "source": [
    "X_manual_test = [x for s in sentences_test for x in sent2features(s)]\n",
    "predict = clf.predict(X_manual_test)"
   ]
  },
  {
   "cell_type": "code",
   "execution_count": 16,
   "metadata": {},
   "outputs": [],
   "source": [
    "df_test['predicted_entity'] = predict\n",
    "df_test.to_excel('Datasets/predicted.xlsx', encoding='utf-8')"
   ]
  },
  {
   "cell_type": "code",
   "execution_count": 17,
   "metadata": {},
   "outputs": [],
   "source": [
    "getter_test = SentenceGetterX(df_test)\n",
    "sentences_test_baru = getter_test.sentences_x"
   ]
  },
  {
   "cell_type": "code",
   "execution_count": 18,
   "metadata": {},
   "outputs": [],
   "source": [
    "def sent2labelsx(sent):\n",
    "    return [label for title, token, postag, label, pred in sent]\n",
    "\n",
    "def sent2labelspredx(sent):\n",
    "    return [pred for title, token, postag, label, pred in sent]"
   ]
  },
  {
   "cell_type": "code",
   "execution_count": 19,
   "metadata": {},
   "outputs": [
    {
     "data": {
      "text/plain": [
       "['O',\n",
       " 'I-PER',\n",
       " 'O',\n",
       " 'B-PER',\n",
       " 'I-PER',\n",
       " 'O',\n",
       " 'B-PER',\n",
       " 'I-PER',\n",
       " 'I-PER',\n",
       " 'O',\n",
       " 'B-PER',\n",
       " 'I-PER',\n",
       " 'O',\n",
       " 'O',\n",
       " 'O',\n",
       " 'O',\n",
       " 'O',\n",
       " 'O',\n",
       " 'O',\n",
       " 'O',\n",
       " 'O',\n",
       " 'B-PER',\n",
       " 'I-PER',\n",
       " 'I-PER',\n",
       " 'I-PER',\n",
       " 'I-PER',\n",
       " 'O',\n",
       " 'O',\n",
       " 'O',\n",
       " 'O',\n",
       " 'O',\n",
       " 'O',\n",
       " 'O',\n",
       " 'O',\n",
       " 'O',\n",
       " 'O',\n",
       " 'O',\n",
       " 'O',\n",
       " 'O',\n",
       " 'O',\n",
       " 'O',\n",
       " 'O',\n",
       " 'O',\n",
       " 'O',\n",
       " 'O',\n",
       " 'O',\n",
       " 'O',\n",
       " 'O',\n",
       " 'O',\n",
       " 'O',\n",
       " 'O',\n",
       " 'O',\n",
       " 'O',\n",
       " 'O',\n",
       " 'O',\n",
       " 'O',\n",
       " 'O',\n",
       " 'O',\n",
       " 'O',\n",
       " 'O',\n",
       " 'O',\n",
       " 'O',\n",
       " 'O',\n",
       " 'O',\n",
       " 'O',\n",
       " 'O',\n",
       " 'O',\n",
       " 'O',\n",
       " 'O',\n",
       " 'O',\n",
       " 'O',\n",
       " 'O',\n",
       " 'O',\n",
       " 'O',\n",
       " 'O',\n",
       " 'O',\n",
       " 'O',\n",
       " 'O',\n",
       " 'B-PER',\n",
       " 'I-PER',\n",
       " 'I-PER',\n",
       " 'I-PER',\n",
       " 'I-PER',\n",
       " 'O',\n",
       " 'O',\n",
       " 'O',\n",
       " 'O',\n",
       " 'O',\n",
       " 'O',\n",
       " 'O',\n",
       " 'O',\n",
       " 'O',\n",
       " 'O',\n",
       " 'O',\n",
       " 'O',\n",
       " 'O',\n",
       " 'O',\n",
       " 'O',\n",
       " 'O',\n",
       " 'O',\n",
       " 'O',\n",
       " 'O',\n",
       " 'O',\n",
       " 'O',\n",
       " 'O',\n",
       " 'O',\n",
       " 'B-PER',\n",
       " 'I-PER',\n",
       " 'I-PER',\n",
       " 'O',\n",
       " 'O',\n",
       " 'O',\n",
       " 'O',\n",
       " 'O',\n",
       " 'O',\n",
       " 'O',\n",
       " 'O',\n",
       " 'O']"
      ]
     },
     "execution_count": 19,
     "metadata": {},
     "output_type": "execute_result"
    }
   ],
   "source": [
    "y_true_grouped = [sent2labelsx(s) for s in sentences_test_baru]\n",
    "y_pred_grouped = [sent2labelspredx(s) for s in sentences_test_baru]\n",
    "\n",
    "y_true_ungrouped = [x for s in sentences_test_baru for x in sent2labelsx(s)]\n",
    "y_pred_ungrouped = [x for s in sentences_test_baru for x in sent2labelspred(s)]\n",
    "\n",
    "y_pred_grouped[0]"
   ]
  },
  {
   "cell_type": "code",
   "execution_count": 20,
   "metadata": {},
   "outputs": [],
   "source": [
    "y_manual_grouped = [x for s in sentences_test_baru for x in sent2labelsx(s)]"
   ]
  },
  {
   "cell_type": "code",
   "execution_count": 21,
   "metadata": {},
   "outputs": [
    {
     "name": "stdout",
     "output_type": "stream",
     "text": [
      "PER ENTITAS\n",
      "             precision    recall  f1-score   support\n",
      "\n",
      "        PER       0.83      0.86      0.85       893\n",
      "        LOC       0.00      0.00      0.00         4\n",
      "\n",
      "avg / total       0.83      0.86      0.84       897\n",
      "\n",
      "PER TOKEN\n",
      "              precision    recall  f1-score   support\n",
      "\n",
      "       B-LOC       0.00      0.00      0.00         3\n",
      "       B-PER       0.95      0.93      0.94       889\n",
      "       I-LOC       0.00      0.00      0.00         2\n",
      "       I-PER       0.98      0.94      0.96      1792\n",
      "           O       0.98      0.99      0.99      6618\n",
      "\n",
      "   micro avg       0.98      0.98      0.98      9304\n",
      "   macro avg       0.58      0.57      0.58      9304\n",
      "weighted avg       0.98      0.98      0.98      9304\n",
      "\n"
     ]
    }
   ],
   "source": [
    "print(\"PER ENTITAS\")\n",
    "print(seq_met(y_true_grouped, y_pred_grouped))\n",
    "print(\"PER TOKEN\")\n",
    "print(skl_met(y_true_ungrouped, y_pred_ungrouped, labels=new_classes))"
   ]
  },
  {
   "cell_type": "code",
   "execution_count": null,
   "metadata": {},
   "outputs": [],
   "source": []
  }
 ],
 "metadata": {
  "kernelspec": {
   "display_name": "Python 3",
   "language": "python",
   "name": "python3"
  },
  "language_info": {
   "codemirror_mode": {
    "name": "ipython",
    "version": 3
   },
   "file_extension": ".py",
   "mimetype": "text/x-python",
   "name": "python",
   "nbconvert_exporter": "python",
   "pygments_lexer": "ipython3",
   "version": "3.7.2"
  }
 },
 "nbformat": 4,
 "nbformat_minor": 2
}
